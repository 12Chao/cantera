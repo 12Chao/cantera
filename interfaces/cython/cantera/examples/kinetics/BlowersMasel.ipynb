{
 "cells": [
  {
   "cell_type": "markdown",
   "metadata": {},
   "source": [
    "\n",
    "```\n",
    "conda install -c cantera/label/dev cantera\n",
    "```"
   ]
  },
  {
   "cell_type": "code",
   "execution_count": 15,
   "metadata": {},
   "outputs": [],
   "source": [
    "import numpy as np\n",
    "\n",
    "#%matplotlib inline\n",
    "#from matplotlib import pyplot as plt\n",
    "\n",
    "import cantera as ct"
   ]
  },
  {
   "cell_type": "code",
   "execution_count": 16,
   "metadata": {},
   "outputs": [],
   "source": [
    "input_file = \"\"\"\n",
    "description: |-\n",
    "  Single OH reaction extracted from GRI-Mech 3.0.\n",
    "\n",
    "units: {length: cm, time: s, quantity: mol, activation-energy: cal/mol}\n",
    "\n",
    "phases:\n",
    "- name: ohmech\n",
    "  thermo: ideal-gas\n",
    "  elements: [O, H]\n",
    "  species: [H2, H, O, OH]\n",
    "  kinetics: gas\n",
    "  transport: mixture-averaged\n",
    "  state: {T: 300.0, P: 1 atm}\n",
    "\n",
    "species:\n",
    "- name: H2\n",
    "  composition: {H: 2}\n",
    "  thermo:\n",
    "    model: NASA7\n",
    "    temperature-ranges: [200.0, 1000.0, 3500.0]\n",
    "    data:\n",
    "    - [2.34433112, 7.98052075e-03, -1.9478151e-05, 2.01572094e-08, -7.37611761e-12,\n",
    "      -917.935173, 0.683010238]\n",
    "    - [3.3372792, -4.94024731e-05, 4.99456778e-07, -1.79566394e-10, 2.00255376e-14,\n",
    "      -950.158922, -3.20502331]\n",
    "    note: TPIS78\n",
    "  transport:\n",
    "    model: gas\n",
    "    geometry: linear\n",
    "    well-depth: 38.0\n",
    "    diameter: 2.92\n",
    "    polarizability: 0.79\n",
    "    rotational-relaxation: 280.0\n",
    "- name: H\n",
    "  composition: {H: 1}\n",
    "  thermo:\n",
    "    model: NASA7\n",
    "    temperature-ranges: [200.0, 1000.0, 3500.0]\n",
    "    data:\n",
    "    - [2.5, 7.05332819e-13, -1.99591964e-15, 2.30081632e-18, -9.27732332e-22,\n",
    "      2.54736599e+04, -0.446682853]\n",
    "    - [2.50000001, -2.30842973e-11, 1.61561948e-14, -4.73515235e-18, 4.98197357e-22,\n",
    "      2.54736599e+04, -0.446682914]\n",
    "    note: L7/88\n",
    "  transport:\n",
    "    model: gas\n",
    "    geometry: atom\n",
    "    well-depth: 145.0\n",
    "    diameter: 2.05\n",
    "- name: O\n",
    "  composition: {O: 1}\n",
    "  thermo:\n",
    "    model: NASA7\n",
    "    temperature-ranges: [200.0, 1000.0, 3500.0]\n",
    "    data:\n",
    "    - [3.1682671, -3.27931884e-03, 6.64306396e-06, -6.12806624e-09, 2.11265971e-12,\n",
    "      2.91222592e+04, 2.05193346]\n",
    "    - [2.56942078, -8.59741137e-05, 4.19484589e-08, -1.00177799e-11, 1.22833691e-15,\n",
    "      2.92175791e+04, 4.78433864]\n",
    "    note: L1/90\n",
    "  transport:\n",
    "    model: gas\n",
    "    geometry: atom\n",
    "    well-depth: 80.0\n",
    "    diameter: 2.75\n",
    "- name: OH\n",
    "  composition: {O: 1, H: 1}\n",
    "  thermo:\n",
    "    model: NASA7\n",
    "    temperature-ranges: [200.0, 1000.0, 3500.0]\n",
    "    data:\n",
    "    - [3.99201543, -2.40131752e-03, 4.61793841e-06, -3.88113333e-09, 1.3641147e-12,\n",
    "      3615.08056, -0.103925458]\n",
    "    - [3.09288767, 5.48429716e-04, 1.26505228e-07, -8.79461556e-11, 1.17412376e-14,\n",
    "      3858.657, 4.4766961]\n",
    "    note: RUS78\n",
    "  transport:\n",
    "    model: gas\n",
    "    geometry: linear\n",
    "    well-depth: 80.0\n",
    "    diameter: 2.75\n",
    "\n",
    "reactions:\n",
    "- equation: O + H2 <=> H + OH  # Reaction 3\n",
    "  rate-constant: {A: 3.87e+04, b: 2.7, Ea: 6260.0}\n",
    "\n",
    "\"\"\""
   ]
  },
  {
   "cell_type": "code",
   "execution_count": 17,
   "metadata": {},
   "outputs": [],
   "source": [
    "with open('input_file.yaml', 'w') as f:\n",
    "    f.write(input_file)"
   ]
  },
  {
   "cell_type": "code",
   "execution_count": 18,
   "metadata": {},
   "outputs": [],
   "source": [
    "gas = ct.Solution('input_file.yaml')"
   ]
  },
  {
   "cell_type": "code",
   "execution_count": 19,
   "metadata": {},
   "outputs": [
    {
     "data": {
      "text/plain": [
       "[<Species H2>, <Species H>, <Species O>, <Species OH>]"
      ]
     },
     "execution_count": 19,
     "metadata": {},
     "output_type": "execute_result"
    }
   ],
   "source": [
    "gas.species()"
   ]
  },
  {
   "cell_type": "code",
   "execution_count": 20,
   "metadata": {},
   "outputs": [
    {
     "data": {
      "text/plain": [
       "[<ElementaryReaction: H2 + O <=> H + OH>]"
      ]
     },
     "execution_count": 20,
     "metadata": {},
     "output_type": "execute_result"
    }
   ],
   "source": [
    "gas.reactions()"
   ]
  },
  {
   "cell_type": "code",
   "execution_count": 21,
   "metadata": {},
   "outputs": [
    {
     "data": {
      "text/plain": [
       "<Species OH>"
      ]
     },
     "execution_count": 21,
     "metadata": {},
     "output_type": "execute_result"
    }
   ],
   "source": [
    "gas.species('OH')"
   ]
  },
  {
   "cell_type": "code",
   "execution_count": 22,
   "metadata": {},
   "outputs": [
    {
     "data": {
      "text/plain": [
       "'39.34 kJ/mol'"
      ]
     },
     "execution_count": 22,
     "metadata": {},
     "output_type": "execute_result"
    }
   ],
   "source": [
    "f\"{gas.species('OH').thermo.h(298)/1e6 :.2f} kJ/mol\""
   ]
  },
  {
   "cell_type": "code",
   "execution_count": 23,
   "metadata": {},
   "outputs": [
    {
     "name": "stdout",
     "output_type": "stream",
     "text": [
      "H2 + O <=> H + OH\n",
      "∆Hrxn = 8.17 kJ/mol\n",
      "5.2e+03 m3/kmol/s\n",
      "5.2e+06 cm3/mol/s\n",
      "\n"
     ]
    }
   ],
   "source": [
    "for i, r in enumerate(gas.reactions()):\n",
    "    print(gas.reaction(i))\n",
    "    print(f\"∆Hrxn = {gas.delta_enthalpy[i]/1e6:.2f} kJ/mol\")\n",
    "    print(f\"{gas.forward_rate_constants[i]:.2g} m3/kmol/s\")\n",
    "    print(f\"{gas.forward_rate_constants[i]*1e6/1e3:.2g} cm3/mol/s\")\n",
    "    print(\"\")"
   ]
  },
  {
   "cell_type": "code",
   "execution_count": 24,
   "metadata": {},
   "outputs": [],
   "source": [
    "def change_species_enthalpy(species_name, dH):\n",
    "    \"\"\"\n",
    "    Find the species by name and change it's enthlapy by dH (in J/kmol)\n",
    "    \"\"\"\n",
    "    index = gas.species_index(species_name)\n",
    "\n",
    "    species = gas.species(index)\n",
    "    print(f\"Initial H(298) = {species.thermo.h(298)/1e6:.1f} kJ/mol\")\n",
    "    dx = dH / ct.gas_constant  # 'dx' is in fact (delta H / R). Note that R in cantera is 8314.462 J/kmol\n",
    "    assert isinstance(species.thermo, ct.NasaPoly2)\n",
    "    # print(species.thermo.coeffs)\n",
    "    perturbed_coeffs = species.thermo.coeffs.copy()\n",
    "    perturbed_coeffs[6] += dx\n",
    "    perturbed_coeffs[13] += dx\n",
    "    \n",
    "    species.thermo = ct.NasaPoly2(species.thermo.min_temp, species.thermo.max_temp, \n",
    "                            species.thermo.reference_pressure, perturbed_coeffs)\n",
    "    #print(species.thermo.coeffs)\n",
    "    gas.modify_species(index, species)\n",
    "    print(f\"Modified H(298) = {species.thermo.h(298)/1e6:.1f} kJ/mol\")"
   ]
  },
  {
   "cell_type": "code",
   "execution_count": 25,
   "metadata": {},
   "outputs": [
    {
     "name": "stdout",
     "output_type": "stream",
     "text": [
      "Initial H(298) = 39.3 kJ/mol\n",
      "Modified H(298) = 49.3 kJ/mol\n"
     ]
    }
   ],
   "source": [
    "change_species_enthalpy('OH', +10e6)"
   ]
  },
  {
   "cell_type": "code",
   "execution_count": 26,
   "metadata": {},
   "outputs": [
    {
     "data": {
      "text/plain": [
       "'49.34 kJ/mol'"
      ]
     },
     "execution_count": 26,
     "metadata": {},
     "output_type": "execute_result"
    }
   ],
   "source": [
    "f\"{gas.species('OH').thermo.h(298)/1e6 :.2f} kJ/mol\""
   ]
  },
  {
   "cell_type": "code",
   "execution_count": 27,
   "metadata": {},
   "outputs": [
    {
     "name": "stdout",
     "output_type": "stream",
     "text": [
      "H2 + O <=> H + OH\n",
      "∆Hrxn = 18.17 kJ/mol\n",
      "5.2e+03 m3/kmol/s\n",
      "5.2e+06 cm3/mol/s\n",
      "\n"
     ]
    }
   ],
   "source": [
    "for i, r in enumerate(gas.reactions()):\n",
    "    print(gas.reaction(i))\n",
    "    print(f\"∆Hrxn = {gas.delta_enthalpy[i]/1e6:.2f} kJ/mol\")\n",
    "    print(f\"{gas.forward_rate_constants[i]:.2g} m3/kmol/s\")\n",
    "    print(f\"{gas.forward_rate_constants[i]*1e6/1e3:.2g} cm3/mol/s\")\n",
    "    print(\"\")"
   ]
  },
  {
   "cell_type": "code",
   "execution_count": 28,
   "metadata": {},
   "outputs": [
    {
     "data": {
      "text/plain": [
       "300.0"
      ]
     },
     "execution_count": 28,
     "metadata": {},
     "output_type": "execute_result"
    }
   ],
   "source": [
    "gas.T"
   ]
  },
  {
   "cell_type": "code",
   "execution_count": null,
   "metadata": {},
   "outputs": [],
   "source": []
  }
 ],
 "metadata": {
  "kernelspec": {
   "display_name": "Python 3",
   "language": "python",
   "name": "python3"
  },
  "language_info": {
   "codemirror_mode": {
    "name": "ipython",
    "version": 3
   },
   "file_extension": ".py",
   "mimetype": "text/x-python",
   "name": "python",
   "nbconvert_exporter": "python",
   "pygments_lexer": "ipython3",
   "version": "3.7.9"
  }
 },
 "nbformat": 4,
 "nbformat_minor": 4
}
