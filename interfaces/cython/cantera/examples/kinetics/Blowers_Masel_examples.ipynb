{
 "cells": [
  {
   "cell_type": "code",
   "execution_count": 1,
   "metadata": {},
   "outputs": [],
   "source": [
    "import sys\n",
    "sys.executable = '/home/chao/anaconda3/envs/chemcheck_env/lib/python3.8/site-packages'\n",
    "python_path = ['/home/chao/cantera/build/python', '/home/chao/RMG-Py', '/home/chao', '/home/chao/anaconda3/envs/chemcheck_env/lib/python38.zip', '/home/chao/anaconda3/envs/chemcheck_env/lib/python3.8', '/home/chao/anaconda3/envs/chemcheck_env/lib/python3.8/lib-dynload', '/home/chao/anaconda3/envs/chemcheck_env/lib/python3.8/site-packages']\n",
    "sys.path.clear()\n",
    "for path in python_path:\n",
    "    sys.path.append(path)"
   ]
  },
  {
   "cell_type": "code",
   "execution_count": 2,
   "metadata": {},
   "outputs": [],
   "source": [
    "import cantera as ct"
   ]
  },
  {
   "cell_type": "code",
   "execution_count": 3,
   "metadata": {
    "scrolled": true
   },
   "outputs": [
    {
     "name": "stdout",
     "output_type": "stream",
     "text": [
      "\n",
      "  gri30:\n",
      "\n",
      "       temperature   300 K\n",
      "          pressure   1.0133e+05 Pa\n",
      "           density   0.081894 kg/m^3\n",
      "  mean mol. weight   2.016 kg/kmol\n",
      "   phase of matter   gas\n",
      "\n",
      "                          1 kg             1 kmol     \n",
      "                     ---------------   ---------------\n",
      "          enthalpy             26469             53361  J\n",
      "   internal energy       -1.2108e+06        -2.441e+06  J\n",
      "           entropy             64910        1.3086e+05  J/K\n",
      "    Gibbs function       -1.9447e+07       -3.9204e+07  J\n",
      " heat capacity c_p             14311             28851  J/K\n",
      " heat capacity c_v             10187             20536  J/K\n",
      "\n",
      "                      mass frac. Y      mole frac. X     chem. pot. / RT\n",
      "                     ---------------   ---------------   ---------------\n",
      "                H2                 1                 1           -15.717\n",
      "     [  +52 minor]                 0                 0  \n",
      "\n"
     ]
    }
   ],
   "source": [
    "gas = ct.Solution('gri30.xml')\n",
    "gas()"
   ]
  },
  {
   "cell_type": "markdown",
   "metadata": {},
   "source": [
    "Here I pick reaction 3 to illustrate how to change the forward reaction rates"
   ]
  },
  {
   "cell_type": "code",
   "execution_count": 4,
   "metadata": {},
   "outputs": [
    {
     "name": "stdout",
     "output_type": "stream",
     "text": [
      "reaction expression: H2 + O <=> H + OH k_f: 5195.447373103844 Delta H: 8170274.380677491\n"
     ]
    }
   ],
   "source": [
    "print(\"reaction expression:\", gas.reaction(2), \"k_f:\",gas.forward_rate_constants[2], \"Delta H:\", gas.delta_enthalpy[2])"
   ]
  },
  {
   "cell_type": "markdown",
   "metadata": {},
   "source": [
    "The block below shows three different enthalpy changes which match to three intervels \n",
    "\\begin{equation}\n",
    "Ea = \n",
    "\\begin{cases}\n",
    "      0 & \\text{for }\\Delta H_{rxn} < -4 E_a^0 \\\\[1em]\n",
    "     \\Delta H_{rxn} & \\text{for }\\Delta H_{rxn} > 4 E_a^0 \\\\[1em]\n",
    "      \\frac{\\left( w_0 + \\frac{\\Delta H_{rxn} }{2} \\right)  (V_P - 2 w_0 + \\Delta H_{rxn}) ^2}{V_P^2 - 4 w_0^2 + \\Delta H_{rxn}^2}& \\text{otherwise}\n",
    "    \\end{cases}     \n",
    "\\end{equation}\n",
    "for Blowers Masel approximation. Before call the `forward_rate_constants`, function `add_delta_enthalpy` should be called with input reaction index and changed $\\Delta H_{rxn}$. "
   ]
  },
  {
   "cell_type": "code",
   "execution_count": 8,
   "metadata": {},
   "outputs": [
    {
     "name": "stdout",
     "output_type": "stream",
     "text": [
      "52493.11115133174\n",
      "680485879718.8324\n",
      "7143603.71754471\n"
     ]
    }
   ],
   "source": [
    "delta_h_1 =  gas.delta_enthalpy[2] * 5\n",
    "delta_h_2 = gas.delta_enthalpy[2] * (-5)\n",
    "delta_h_3 = gas.delta_enthalpy[2] * 2\n",
    "gas.add_delta_enthalpy(2, delta_h_1)\n",
    "print(gas.forward_rate_constants[2])\n",
    "gas.add_delta_enthalpy(2, delta_h_2)\n",
    "print(gas.forward_rate_constants[2])\n",
    "gas.add_delta_enthalpy(2, delta_h_3)\n",
    "print(gas.forward_rate_constants[2])"
   ]
  },
  {
   "cell_type": "markdown",
   "metadata": {},
   "source": [
    "The problem so far is that all the changed $\\Delta H$s are saved in a new vector, and based on the new factor, it simply re-evaluate the forward rate constants, but other saved properties like Ea for reactions with chagned enthalpy, and equilibrium constant, and reverse rate coefficient are not able to update according to the changed entalpy we input. Also, it only applies for the elementary reactions right now."
   ]
  }
 ],
 "metadata": {
  "kernelspec": {
   "display_name": "chemcheck_env",
   "language": "python",
   "name": "chemcheck_env"
  },
  "language_info": {
   "codemirror_mode": {
    "name": "ipython",
    "version": 3
   },
   "file_extension": ".py",
   "mimetype": "text/x-python",
   "name": "python",
   "nbconvert_exporter": "python",
   "pygments_lexer": "ipython3",
   "version": "3.8.5"
  }
 },
 "nbformat": 4,
 "nbformat_minor": 4
}
